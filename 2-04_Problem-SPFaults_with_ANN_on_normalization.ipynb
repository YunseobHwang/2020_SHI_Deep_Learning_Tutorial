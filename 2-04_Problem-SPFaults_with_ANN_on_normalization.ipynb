{
 "cells": [
  {
   "cell_type": "markdown",
   "metadata": {
    "slideshow": {
     "slide_type": "slide"
    }
   },
   "source": [
    "<br><br>\n",
    "<font size='6'><b>Exercise for Artificial Neural Networks\n",
    "</b></font><br><br>\n",
    "\n",
    "<br>\n",
    "<div class=pull-right>\n",
    "By Prof. Seungchul Lee<br>\n",
    "http://iai.postech.ac.kr/<br>\n",
    "Industrial AI Lab at POSTECH\n",
    "</div>"
   ]
  },
  {
   "cell_type": "markdown",
   "metadata": {
    "slideshow": {
     "slide_type": "subslide"
    }
   },
   "source": [
    "Table of Contents\n",
    "<div id=\"toc\"></div>"
   ]
  },
  {
   "cell_type": "code",
   "execution_count": 1,
   "metadata": {
    "ExecuteTime": {
     "end_time": "2020-01-11T07:05:25.204524Z",
     "start_time": "2020-01-11T07:05:22.978524Z"
    }
   },
   "outputs": [
    {
     "name": "stderr",
     "output_type": "stream",
     "text": [
      "c:\\users\\iai_yunseob\\appdata\\local\\programs\\python\\python36\\lib\\site-packages\\tensorflow\\python\\framework\\dtypes.py:516: FutureWarning: Passing (type, 1) or '1type' as a synonym of type is deprecated; in a future version of numpy, it will be understood as (type, (1,)) / '(1,)type'.\n",
      "  _np_qint8 = np.dtype([(\"qint8\", np.int8, 1)])\n",
      "c:\\users\\iai_yunseob\\appdata\\local\\programs\\python\\python36\\lib\\site-packages\\tensorflow\\python\\framework\\dtypes.py:517: FutureWarning: Passing (type, 1) or '1type' as a synonym of type is deprecated; in a future version of numpy, it will be understood as (type, (1,)) / '(1,)type'.\n",
      "  _np_quint8 = np.dtype([(\"quint8\", np.uint8, 1)])\n",
      "c:\\users\\iai_yunseob\\appdata\\local\\programs\\python\\python36\\lib\\site-packages\\tensorflow\\python\\framework\\dtypes.py:518: FutureWarning: Passing (type, 1) or '1type' as a synonym of type is deprecated; in a future version of numpy, it will be understood as (type, (1,)) / '(1,)type'.\n",
      "  _np_qint16 = np.dtype([(\"qint16\", np.int16, 1)])\n",
      "c:\\users\\iai_yunseob\\appdata\\local\\programs\\python\\python36\\lib\\site-packages\\tensorflow\\python\\framework\\dtypes.py:519: FutureWarning: Passing (type, 1) or '1type' as a synonym of type is deprecated; in a future version of numpy, it will be understood as (type, (1,)) / '(1,)type'.\n",
      "  _np_quint16 = np.dtype([(\"quint16\", np.uint16, 1)])\n",
      "c:\\users\\iai_yunseob\\appdata\\local\\programs\\python\\python36\\lib\\site-packages\\tensorflow\\python\\framework\\dtypes.py:520: FutureWarning: Passing (type, 1) or '1type' as a synonym of type is deprecated; in a future version of numpy, it will be understood as (type, (1,)) / '(1,)type'.\n",
      "  _np_qint32 = np.dtype([(\"qint32\", np.int32, 1)])\n",
      "c:\\users\\iai_yunseob\\appdata\\local\\programs\\python\\python36\\lib\\site-packages\\tensorflow\\python\\framework\\dtypes.py:525: FutureWarning: Passing (type, 1) or '1type' as a synonym of type is deprecated; in a future version of numpy, it will be understood as (type, (1,)) / '(1,)type'.\n",
      "  np_resource = np.dtype([(\"resource\", np.ubyte, 1)])\n",
      "c:\\users\\iai_yunseob\\appdata\\local\\programs\\python\\python36\\lib\\site-packages\\tensorboard\\compat\\tensorflow_stub\\dtypes.py:541: FutureWarning: Passing (type, 1) or '1type' as a synonym of type is deprecated; in a future version of numpy, it will be understood as (type, (1,)) / '(1,)type'.\n",
      "  _np_qint8 = np.dtype([(\"qint8\", np.int8, 1)])\n",
      "c:\\users\\iai_yunseob\\appdata\\local\\programs\\python\\python36\\lib\\site-packages\\tensorboard\\compat\\tensorflow_stub\\dtypes.py:542: FutureWarning: Passing (type, 1) or '1type' as a synonym of type is deprecated; in a future version of numpy, it will be understood as (type, (1,)) / '(1,)type'.\n",
      "  _np_quint8 = np.dtype([(\"quint8\", np.uint8, 1)])\n",
      "c:\\users\\iai_yunseob\\appdata\\local\\programs\\python\\python36\\lib\\site-packages\\tensorboard\\compat\\tensorflow_stub\\dtypes.py:543: FutureWarning: Passing (type, 1) or '1type' as a synonym of type is deprecated; in a future version of numpy, it will be understood as (type, (1,)) / '(1,)type'.\n",
      "  _np_qint16 = np.dtype([(\"qint16\", np.int16, 1)])\n",
      "c:\\users\\iai_yunseob\\appdata\\local\\programs\\python\\python36\\lib\\site-packages\\tensorboard\\compat\\tensorflow_stub\\dtypes.py:544: FutureWarning: Passing (type, 1) or '1type' as a synonym of type is deprecated; in a future version of numpy, it will be understood as (type, (1,)) / '(1,)type'.\n",
      "  _np_quint16 = np.dtype([(\"quint16\", np.uint16, 1)])\n",
      "c:\\users\\iai_yunseob\\appdata\\local\\programs\\python\\python36\\lib\\site-packages\\tensorboard\\compat\\tensorflow_stub\\dtypes.py:545: FutureWarning: Passing (type, 1) or '1type' as a synonym of type is deprecated; in a future version of numpy, it will be understood as (type, (1,)) / '(1,)type'.\n",
      "  _np_qint32 = np.dtype([(\"qint32\", np.int32, 1)])\n",
      "c:\\users\\iai_yunseob\\appdata\\local\\programs\\python\\python36\\lib\\site-packages\\tensorboard\\compat\\tensorflow_stub\\dtypes.py:550: FutureWarning: Passing (type, 1) or '1type' as a synonym of type is deprecated; in a future version of numpy, it will be understood as (type, (1,)) / '(1,)type'.\n",
      "  np_resource = np.dtype([(\"resource\", np.ubyte, 1)])\n"
     ]
    }
   ],
   "source": [
    "import numpy as np\n",
    "import matplotlib.pyplot as plt\n",
    "import tensorflow as tf\n",
    "import pandas as pd"
   ]
  },
  {
   "cell_type": "markdown",
   "metadata": {},
   "source": [
    "# Problem Definition"
   ]
  },
  {
   "cell_type": "markdown",
   "metadata": {},
   "source": [
    "__<font size = 4>Steel Plates Faults Dataset</font><br>__\n",
    "<font size = 2>\n",
    "- Input: 27 features (Attributes)\n",
    "- Output: 7 classes (7 Types of Steel Plates Faults) \n",
    "</font>"
   ]
  },
  {
   "cell_type": "markdown",
   "metadata": {},
   "source": [
    "<img src='.\\image_files\\steel_plate_faults_description.png' width = 1000>"
   ]
  },
  {
   "cell_type": "markdown",
   "metadata": {},
   "source": [
    "# Load Data"
   ]
  },
  {
   "cell_type": "code",
   "execution_count": 2,
   "metadata": {
    "ExecuteTime": {
     "end_time": "2020-01-11T07:05:28.383524Z",
     "start_time": "2020-01-11T07:05:28.324524Z"
    }
   },
   "outputs": [
    {
     "data": {
      "text/html": [
       "<div>\n",
       "<style scoped>\n",
       "    .dataframe tbody tr th:only-of-type {\n",
       "        vertical-align: middle;\n",
       "    }\n",
       "\n",
       "    .dataframe tbody tr th {\n",
       "        vertical-align: top;\n",
       "    }\n",
       "\n",
       "    .dataframe thead th {\n",
       "        text-align: right;\n",
       "    }\n",
       "</style>\n",
       "<table border=\"1\" class=\"dataframe\">\n",
       "  <thead>\n",
       "    <tr style=\"text-align: right;\">\n",
       "      <th></th>\n",
       "      <th>X_Minimum</th>\n",
       "      <th>X_Maximum</th>\n",
       "      <th>Y_Minimum</th>\n",
       "      <th>Y_Maximum</th>\n",
       "      <th>Pixels_Areas</th>\n",
       "      <th>X_Perimeter</th>\n",
       "      <th>Y_Perimeter</th>\n",
       "      <th>Sum_of_Luminosity</th>\n",
       "      <th>Minimum_of_Luminosity</th>\n",
       "      <th>Maximum_of_Luminosity</th>\n",
       "      <th>...</th>\n",
       "      <th>Edges_X_Index</th>\n",
       "      <th>Edges_Y_Index</th>\n",
       "      <th>Outside_Global_Index</th>\n",
       "      <th>LogOfAreas</th>\n",
       "      <th>Log_X_Index</th>\n",
       "      <th>Log_Y_Index</th>\n",
       "      <th>Orientation_Index</th>\n",
       "      <th>Luminosity_Index</th>\n",
       "      <th>SigmoidOfAreas</th>\n",
       "      <th>Fault</th>\n",
       "    </tr>\n",
       "  </thead>\n",
       "  <tbody>\n",
       "    <tr>\n",
       "      <th>0</th>\n",
       "      <td>42</td>\n",
       "      <td>50</td>\n",
       "      <td>270900</td>\n",
       "      <td>270944</td>\n",
       "      <td>267</td>\n",
       "      <td>17</td>\n",
       "      <td>44</td>\n",
       "      <td>24220</td>\n",
       "      <td>76</td>\n",
       "      <td>108</td>\n",
       "      <td>...</td>\n",
       "      <td>0.4706</td>\n",
       "      <td>1.0000</td>\n",
       "      <td>1.0</td>\n",
       "      <td>2.4265</td>\n",
       "      <td>0.9031</td>\n",
       "      <td>1.6435</td>\n",
       "      <td>0.8182</td>\n",
       "      <td>-0.2913</td>\n",
       "      <td>0.5822</td>\n",
       "      <td>Pastry</td>\n",
       "    </tr>\n",
       "    <tr>\n",
       "      <th>1</th>\n",
       "      <td>645</td>\n",
       "      <td>651</td>\n",
       "      <td>2538079</td>\n",
       "      <td>2538108</td>\n",
       "      <td>108</td>\n",
       "      <td>10</td>\n",
       "      <td>30</td>\n",
       "      <td>11397</td>\n",
       "      <td>84</td>\n",
       "      <td>123</td>\n",
       "      <td>...</td>\n",
       "      <td>0.6000</td>\n",
       "      <td>0.9667</td>\n",
       "      <td>1.0</td>\n",
       "      <td>2.0334</td>\n",
       "      <td>0.7782</td>\n",
       "      <td>1.4624</td>\n",
       "      <td>0.7931</td>\n",
       "      <td>-0.1756</td>\n",
       "      <td>0.2984</td>\n",
       "      <td>Pastry</td>\n",
       "    </tr>\n",
       "    <tr>\n",
       "      <th>2</th>\n",
       "      <td>829</td>\n",
       "      <td>835</td>\n",
       "      <td>1553913</td>\n",
       "      <td>1553931</td>\n",
       "      <td>71</td>\n",
       "      <td>8</td>\n",
       "      <td>19</td>\n",
       "      <td>7972</td>\n",
       "      <td>99</td>\n",
       "      <td>125</td>\n",
       "      <td>...</td>\n",
       "      <td>0.7500</td>\n",
       "      <td>0.9474</td>\n",
       "      <td>1.0</td>\n",
       "      <td>1.8513</td>\n",
       "      <td>0.7782</td>\n",
       "      <td>1.2553</td>\n",
       "      <td>0.6667</td>\n",
       "      <td>-0.1228</td>\n",
       "      <td>0.2150</td>\n",
       "      <td>Pastry</td>\n",
       "    </tr>\n",
       "    <tr>\n",
       "      <th>3</th>\n",
       "      <td>853</td>\n",
       "      <td>860</td>\n",
       "      <td>369370</td>\n",
       "      <td>369415</td>\n",
       "      <td>176</td>\n",
       "      <td>13</td>\n",
       "      <td>45</td>\n",
       "      <td>18996</td>\n",
       "      <td>99</td>\n",
       "      <td>126</td>\n",
       "      <td>...</td>\n",
       "      <td>0.5385</td>\n",
       "      <td>1.0000</td>\n",
       "      <td>1.0</td>\n",
       "      <td>2.2455</td>\n",
       "      <td>0.8451</td>\n",
       "      <td>1.6532</td>\n",
       "      <td>0.8444</td>\n",
       "      <td>-0.1568</td>\n",
       "      <td>0.5212</td>\n",
       "      <td>Pastry</td>\n",
       "    </tr>\n",
       "    <tr>\n",
       "      <th>4</th>\n",
       "      <td>1289</td>\n",
       "      <td>1306</td>\n",
       "      <td>498078</td>\n",
       "      <td>498335</td>\n",
       "      <td>2409</td>\n",
       "      <td>60</td>\n",
       "      <td>260</td>\n",
       "      <td>246930</td>\n",
       "      <td>37</td>\n",
       "      <td>126</td>\n",
       "      <td>...</td>\n",
       "      <td>0.2833</td>\n",
       "      <td>0.9885</td>\n",
       "      <td>1.0</td>\n",
       "      <td>3.3818</td>\n",
       "      <td>1.2305</td>\n",
       "      <td>2.4099</td>\n",
       "      <td>0.9338</td>\n",
       "      <td>-0.1992</td>\n",
       "      <td>1.0000</td>\n",
       "      <td>Pastry</td>\n",
       "    </tr>\n",
       "  </tbody>\n",
       "</table>\n",
       "<p>5 rows × 28 columns</p>\n",
       "</div>"
      ],
      "text/plain": [
       "   X_Minimum  X_Maximum  Y_Minimum  Y_Maximum  Pixels_Areas  X_Perimeter  \\\n",
       "0         42         50     270900     270944           267           17   \n",
       "1        645        651    2538079    2538108           108           10   \n",
       "2        829        835    1553913    1553931            71            8   \n",
       "3        853        860     369370     369415           176           13   \n",
       "4       1289       1306     498078     498335          2409           60   \n",
       "\n",
       "   Y_Perimeter  Sum_of_Luminosity  Minimum_of_Luminosity  \\\n",
       "0           44              24220                     76   \n",
       "1           30              11397                     84   \n",
       "2           19               7972                     99   \n",
       "3           45              18996                     99   \n",
       "4          260             246930                     37   \n",
       "\n",
       "   Maximum_of_Luminosity  ...  Edges_X_Index  Edges_Y_Index  \\\n",
       "0                    108  ...         0.4706         1.0000   \n",
       "1                    123  ...         0.6000         0.9667   \n",
       "2                    125  ...         0.7500         0.9474   \n",
       "3                    126  ...         0.5385         1.0000   \n",
       "4                    126  ...         0.2833         0.9885   \n",
       "\n",
       "   Outside_Global_Index  LogOfAreas  Log_X_Index  Log_Y_Index  \\\n",
       "0                   1.0      2.4265       0.9031       1.6435   \n",
       "1                   1.0      2.0334       0.7782       1.4624   \n",
       "2                   1.0      1.8513       0.7782       1.2553   \n",
       "3                   1.0      2.2455       0.8451       1.6532   \n",
       "4                   1.0      3.3818       1.2305       2.4099   \n",
       "\n",
       "   Orientation_Index  Luminosity_Index  SigmoidOfAreas   Fault  \n",
       "0             0.8182           -0.2913          0.5822  Pastry  \n",
       "1             0.7931           -0.1756          0.2984  Pastry  \n",
       "2             0.6667           -0.1228          0.2150  Pastry  \n",
       "3             0.8444           -0.1568          0.5212  Pastry  \n",
       "4             0.9338           -0.1992          1.0000  Pastry  \n",
       "\n",
       "[5 rows x 28 columns]"
      ]
     },
     "execution_count": 2,
     "metadata": {},
     "output_type": "execute_result"
    }
   ],
   "source": [
    "df = pd.read_csv('./data_files/BigML_Steel_Plates_Faults.csv')\n",
    "df.head()"
   ]
  },
  {
   "cell_type": "code",
   "execution_count": 3,
   "metadata": {
    "ExecuteTime": {
     "end_time": "2020-01-11T07:05:28.532524Z",
     "start_time": "2020-01-11T07:05:28.528524Z"
    }
   },
   "outputs": [
    {
     "data": {
      "text/plain": [
       "Index(['X_Minimum', 'X_Maximum', 'Y_Minimum', 'Y_Maximum', 'Pixels_Areas',\n",
       "       'X_Perimeter', 'Y_Perimeter', 'Sum_of_Luminosity',\n",
       "       'Minimum_of_Luminosity', 'Maximum_of_Luminosity', 'Length_of_Conveyer',\n",
       "       'TypeOfSteel_A300', 'TypeOfSteel_A400', 'Steel_Plate_Thickness',\n",
       "       'Edges_Index', 'Empty_Index', 'Square_Index', 'Outside_X_Index',\n",
       "       'Edges_X_Index', 'Edges_Y_Index', 'Outside_Global_Index', 'LogOfAreas',\n",
       "       'Log_X_Index', 'Log_Y_Index', 'Orientation_Index', 'Luminosity_Index',\n",
       "       'SigmoidOfAreas', 'Fault'],\n",
       "      dtype='object')"
      ]
     },
     "execution_count": 3,
     "metadata": {},
     "output_type": "execute_result"
    }
   ],
   "source": [
    "col = df.columns\n",
    "col"
   ]
  },
  {
   "cell_type": "code",
   "execution_count": 4,
   "metadata": {
    "ExecuteTime": {
     "end_time": "2020-01-11T07:05:28.749524Z",
     "start_time": "2020-01-11T07:05:28.745524Z"
    }
   },
   "outputs": [],
   "source": [
    "X = df[col].drop('Fault', 1)\n",
    "Y = df['Fault']"
   ]
  },
  {
   "cell_type": "markdown",
   "metadata": {},
   "source": [
    "# Data preprocessing"
   ]
  },
  {
   "cell_type": "markdown",
   "metadata": {},
   "source": [
    "## Normalization "
   ]
  },
  {
   "cell_type": "code",
   "execution_count": 5,
   "metadata": {
    "ExecuteTime": {
     "end_time": "2020-01-11T07:05:31.889524Z",
     "start_time": "2020-01-11T07:05:31.847524Z"
    }
   },
   "outputs": [
    {
     "data": {
      "text/html": [
       "<div>\n",
       "<style scoped>\n",
       "    .dataframe tbody tr th:only-of-type {\n",
       "        vertical-align: middle;\n",
       "    }\n",
       "\n",
       "    .dataframe tbody tr th {\n",
       "        vertical-align: top;\n",
       "    }\n",
       "\n",
       "    .dataframe thead th {\n",
       "        text-align: right;\n",
       "    }\n",
       "</style>\n",
       "<table border=\"1\" class=\"dataframe\">\n",
       "  <thead>\n",
       "    <tr style=\"text-align: right;\">\n",
       "      <th></th>\n",
       "      <th>X_Minimum</th>\n",
       "      <th>X_Maximum</th>\n",
       "      <th>Y_Minimum</th>\n",
       "      <th>Y_Maximum</th>\n",
       "      <th>Pixels_Areas</th>\n",
       "      <th>X_Perimeter</th>\n",
       "      <th>Y_Perimeter</th>\n",
       "      <th>Sum_of_Luminosity</th>\n",
       "      <th>Minimum_of_Luminosity</th>\n",
       "      <th>Maximum_of_Luminosity</th>\n",
       "      <th>...</th>\n",
       "      <th>Outside_X_Index</th>\n",
       "      <th>Edges_X_Index</th>\n",
       "      <th>Edges_Y_Index</th>\n",
       "      <th>Outside_Global_Index</th>\n",
       "      <th>LogOfAreas</th>\n",
       "      <th>Log_X_Index</th>\n",
       "      <th>Log_Y_Index</th>\n",
       "      <th>Orientation_Index</th>\n",
       "      <th>Luminosity_Index</th>\n",
       "      <th>SigmoidOfAreas</th>\n",
       "    </tr>\n",
       "  </thead>\n",
       "  <tbody>\n",
       "    <tr>\n",
       "      <th>0</th>\n",
       "      <td>42</td>\n",
       "      <td>50</td>\n",
       "      <td>270900</td>\n",
       "      <td>270944</td>\n",
       "      <td>267</td>\n",
       "      <td>17</td>\n",
       "      <td>44</td>\n",
       "      <td>24220</td>\n",
       "      <td>76</td>\n",
       "      <td>108</td>\n",
       "      <td>...</td>\n",
       "      <td>0.0047</td>\n",
       "      <td>0.4706</td>\n",
       "      <td>1.0000</td>\n",
       "      <td>1.0</td>\n",
       "      <td>2.4265</td>\n",
       "      <td>0.9031</td>\n",
       "      <td>1.6435</td>\n",
       "      <td>0.8182</td>\n",
       "      <td>-0.2913</td>\n",
       "      <td>0.5822</td>\n",
       "    </tr>\n",
       "    <tr>\n",
       "      <th>1</th>\n",
       "      <td>645</td>\n",
       "      <td>651</td>\n",
       "      <td>2538079</td>\n",
       "      <td>2538108</td>\n",
       "      <td>108</td>\n",
       "      <td>10</td>\n",
       "      <td>30</td>\n",
       "      <td>11397</td>\n",
       "      <td>84</td>\n",
       "      <td>123</td>\n",
       "      <td>...</td>\n",
       "      <td>0.0036</td>\n",
       "      <td>0.6000</td>\n",
       "      <td>0.9667</td>\n",
       "      <td>1.0</td>\n",
       "      <td>2.0334</td>\n",
       "      <td>0.7782</td>\n",
       "      <td>1.4624</td>\n",
       "      <td>0.7931</td>\n",
       "      <td>-0.1756</td>\n",
       "      <td>0.2984</td>\n",
       "    </tr>\n",
       "    <tr>\n",
       "      <th>2</th>\n",
       "      <td>829</td>\n",
       "      <td>835</td>\n",
       "      <td>1553913</td>\n",
       "      <td>1553931</td>\n",
       "      <td>71</td>\n",
       "      <td>8</td>\n",
       "      <td>19</td>\n",
       "      <td>7972</td>\n",
       "      <td>99</td>\n",
       "      <td>125</td>\n",
       "      <td>...</td>\n",
       "      <td>0.0037</td>\n",
       "      <td>0.7500</td>\n",
       "      <td>0.9474</td>\n",
       "      <td>1.0</td>\n",
       "      <td>1.8513</td>\n",
       "      <td>0.7782</td>\n",
       "      <td>1.2553</td>\n",
       "      <td>0.6667</td>\n",
       "      <td>-0.1228</td>\n",
       "      <td>0.2150</td>\n",
       "    </tr>\n",
       "    <tr>\n",
       "      <th>3</th>\n",
       "      <td>853</td>\n",
       "      <td>860</td>\n",
       "      <td>369370</td>\n",
       "      <td>369415</td>\n",
       "      <td>176</td>\n",
       "      <td>13</td>\n",
       "      <td>45</td>\n",
       "      <td>18996</td>\n",
       "      <td>99</td>\n",
       "      <td>126</td>\n",
       "      <td>...</td>\n",
       "      <td>0.0052</td>\n",
       "      <td>0.5385</td>\n",
       "      <td>1.0000</td>\n",
       "      <td>1.0</td>\n",
       "      <td>2.2455</td>\n",
       "      <td>0.8451</td>\n",
       "      <td>1.6532</td>\n",
       "      <td>0.8444</td>\n",
       "      <td>-0.1568</td>\n",
       "      <td>0.5212</td>\n",
       "    </tr>\n",
       "    <tr>\n",
       "      <th>4</th>\n",
       "      <td>1289</td>\n",
       "      <td>1306</td>\n",
       "      <td>498078</td>\n",
       "      <td>498335</td>\n",
       "      <td>2409</td>\n",
       "      <td>60</td>\n",
       "      <td>260</td>\n",
       "      <td>246930</td>\n",
       "      <td>37</td>\n",
       "      <td>126</td>\n",
       "      <td>...</td>\n",
       "      <td>0.0126</td>\n",
       "      <td>0.2833</td>\n",
       "      <td>0.9885</td>\n",
       "      <td>1.0</td>\n",
       "      <td>3.3818</td>\n",
       "      <td>1.2305</td>\n",
       "      <td>2.4099</td>\n",
       "      <td>0.9338</td>\n",
       "      <td>-0.1992</td>\n",
       "      <td>1.0000</td>\n",
       "    </tr>\n",
       "    <tr>\n",
       "      <th>...</th>\n",
       "      <td>...</td>\n",
       "      <td>...</td>\n",
       "      <td>...</td>\n",
       "      <td>...</td>\n",
       "      <td>...</td>\n",
       "      <td>...</td>\n",
       "      <td>...</td>\n",
       "      <td>...</td>\n",
       "      <td>...</td>\n",
       "      <td>...</td>\n",
       "      <td>...</td>\n",
       "      <td>...</td>\n",
       "      <td>...</td>\n",
       "      <td>...</td>\n",
       "      <td>...</td>\n",
       "      <td>...</td>\n",
       "      <td>...</td>\n",
       "      <td>...</td>\n",
       "      <td>...</td>\n",
       "      <td>...</td>\n",
       "      <td>...</td>\n",
       "    </tr>\n",
       "    <tr>\n",
       "      <th>1936</th>\n",
       "      <td>249</td>\n",
       "      <td>277</td>\n",
       "      <td>325780</td>\n",
       "      <td>325796</td>\n",
       "      <td>273</td>\n",
       "      <td>54</td>\n",
       "      <td>22</td>\n",
       "      <td>35033</td>\n",
       "      <td>119</td>\n",
       "      <td>141</td>\n",
       "      <td>...</td>\n",
       "      <td>0.0206</td>\n",
       "      <td>0.5185</td>\n",
       "      <td>0.7273</td>\n",
       "      <td>0.0</td>\n",
       "      <td>2.4362</td>\n",
       "      <td>1.4472</td>\n",
       "      <td>1.2041</td>\n",
       "      <td>-0.4286</td>\n",
       "      <td>0.0026</td>\n",
       "      <td>0.7254</td>\n",
       "    </tr>\n",
       "    <tr>\n",
       "      <th>1937</th>\n",
       "      <td>144</td>\n",
       "      <td>175</td>\n",
       "      <td>340581</td>\n",
       "      <td>340598</td>\n",
       "      <td>287</td>\n",
       "      <td>44</td>\n",
       "      <td>24</td>\n",
       "      <td>34599</td>\n",
       "      <td>112</td>\n",
       "      <td>133</td>\n",
       "      <td>...</td>\n",
       "      <td>0.0228</td>\n",
       "      <td>0.7046</td>\n",
       "      <td>0.7083</td>\n",
       "      <td>0.0</td>\n",
       "      <td>2.4579</td>\n",
       "      <td>1.4914</td>\n",
       "      <td>1.2305</td>\n",
       "      <td>-0.4516</td>\n",
       "      <td>-0.0582</td>\n",
       "      <td>0.8173</td>\n",
       "    </tr>\n",
       "    <tr>\n",
       "      <th>1938</th>\n",
       "      <td>145</td>\n",
       "      <td>174</td>\n",
       "      <td>386779</td>\n",
       "      <td>386794</td>\n",
       "      <td>292</td>\n",
       "      <td>40</td>\n",
       "      <td>22</td>\n",
       "      <td>37572</td>\n",
       "      <td>120</td>\n",
       "      <td>140</td>\n",
       "      <td>...</td>\n",
       "      <td>0.0213</td>\n",
       "      <td>0.7250</td>\n",
       "      <td>0.6818</td>\n",
       "      <td>0.0</td>\n",
       "      <td>2.4654</td>\n",
       "      <td>1.4624</td>\n",
       "      <td>1.1761</td>\n",
       "      <td>-0.4828</td>\n",
       "      <td>0.0052</td>\n",
       "      <td>0.7079</td>\n",
       "    </tr>\n",
       "    <tr>\n",
       "      <th>1939</th>\n",
       "      <td>137</td>\n",
       "      <td>170</td>\n",
       "      <td>422497</td>\n",
       "      <td>422528</td>\n",
       "      <td>419</td>\n",
       "      <td>97</td>\n",
       "      <td>47</td>\n",
       "      <td>52715</td>\n",
       "      <td>117</td>\n",
       "      <td>140</td>\n",
       "      <td>...</td>\n",
       "      <td>0.0243</td>\n",
       "      <td>0.3402</td>\n",
       "      <td>0.6596</td>\n",
       "      <td>0.0</td>\n",
       "      <td>2.6222</td>\n",
       "      <td>1.5185</td>\n",
       "      <td>1.4914</td>\n",
       "      <td>-0.0606</td>\n",
       "      <td>-0.0171</td>\n",
       "      <td>0.9919</td>\n",
       "    </tr>\n",
       "    <tr>\n",
       "      <th>1940</th>\n",
       "      <td>1261</td>\n",
       "      <td>1281</td>\n",
       "      <td>87951</td>\n",
       "      <td>87967</td>\n",
       "      <td>103</td>\n",
       "      <td>26</td>\n",
       "      <td>22</td>\n",
       "      <td>11682</td>\n",
       "      <td>101</td>\n",
       "      <td>133</td>\n",
       "      <td>...</td>\n",
       "      <td>0.0147</td>\n",
       "      <td>0.7692</td>\n",
       "      <td>0.7273</td>\n",
       "      <td>0.0</td>\n",
       "      <td>2.0128</td>\n",
       "      <td>1.3010</td>\n",
       "      <td>1.2041</td>\n",
       "      <td>-0.2000</td>\n",
       "      <td>-0.1139</td>\n",
       "      <td>0.5296</td>\n",
       "    </tr>\n",
       "  </tbody>\n",
       "</table>\n",
       "<p>1941 rows × 27 columns</p>\n",
       "</div>"
      ],
      "text/plain": [
       "      X_Minimum  X_Maximum  Y_Minimum  Y_Maximum  Pixels_Areas  X_Perimeter  \\\n",
       "0            42         50     270900     270944           267           17   \n",
       "1           645        651    2538079    2538108           108           10   \n",
       "2           829        835    1553913    1553931            71            8   \n",
       "3           853        860     369370     369415           176           13   \n",
       "4          1289       1306     498078     498335          2409           60   \n",
       "...         ...        ...        ...        ...           ...          ...   \n",
       "1936        249        277     325780     325796           273           54   \n",
       "1937        144        175     340581     340598           287           44   \n",
       "1938        145        174     386779     386794           292           40   \n",
       "1939        137        170     422497     422528           419           97   \n",
       "1940       1261       1281      87951      87967           103           26   \n",
       "\n",
       "      Y_Perimeter  Sum_of_Luminosity  Minimum_of_Luminosity  \\\n",
       "0              44              24220                     76   \n",
       "1              30              11397                     84   \n",
       "2              19               7972                     99   \n",
       "3              45              18996                     99   \n",
       "4             260             246930                     37   \n",
       "...           ...                ...                    ...   \n",
       "1936           22              35033                    119   \n",
       "1937           24              34599                    112   \n",
       "1938           22              37572                    120   \n",
       "1939           47              52715                    117   \n",
       "1940           22              11682                    101   \n",
       "\n",
       "      Maximum_of_Luminosity  ...  Outside_X_Index  Edges_X_Index  \\\n",
       "0                       108  ...           0.0047         0.4706   \n",
       "1                       123  ...           0.0036         0.6000   \n",
       "2                       125  ...           0.0037         0.7500   \n",
       "3                       126  ...           0.0052         0.5385   \n",
       "4                       126  ...           0.0126         0.2833   \n",
       "...                     ...  ...              ...            ...   \n",
       "1936                    141  ...           0.0206         0.5185   \n",
       "1937                    133  ...           0.0228         0.7046   \n",
       "1938                    140  ...           0.0213         0.7250   \n",
       "1939                    140  ...           0.0243         0.3402   \n",
       "1940                    133  ...           0.0147         0.7692   \n",
       "\n",
       "      Edges_Y_Index  Outside_Global_Index  LogOfAreas  Log_X_Index  \\\n",
       "0            1.0000                   1.0      2.4265       0.9031   \n",
       "1            0.9667                   1.0      2.0334       0.7782   \n",
       "2            0.9474                   1.0      1.8513       0.7782   \n",
       "3            1.0000                   1.0      2.2455       0.8451   \n",
       "4            0.9885                   1.0      3.3818       1.2305   \n",
       "...             ...                   ...         ...          ...   \n",
       "1936         0.7273                   0.0      2.4362       1.4472   \n",
       "1937         0.7083                   0.0      2.4579       1.4914   \n",
       "1938         0.6818                   0.0      2.4654       1.4624   \n",
       "1939         0.6596                   0.0      2.6222       1.5185   \n",
       "1940         0.7273                   0.0      2.0128       1.3010   \n",
       "\n",
       "      Log_Y_Index  Orientation_Index  Luminosity_Index  SigmoidOfAreas  \n",
       "0          1.6435             0.8182           -0.2913          0.5822  \n",
       "1          1.4624             0.7931           -0.1756          0.2984  \n",
       "2          1.2553             0.6667           -0.1228          0.2150  \n",
       "3          1.6532             0.8444           -0.1568          0.5212  \n",
       "4          2.4099             0.9338           -0.1992          1.0000  \n",
       "...           ...                ...               ...             ...  \n",
       "1936       1.2041            -0.4286            0.0026          0.7254  \n",
       "1937       1.2305            -0.4516           -0.0582          0.8173  \n",
       "1938       1.1761            -0.4828            0.0052          0.7079  \n",
       "1939       1.4914            -0.0606           -0.0171          0.9919  \n",
       "1940       1.2041            -0.2000           -0.1139          0.5296  \n",
       "\n",
       "[1941 rows x 27 columns]"
      ]
     },
     "execution_count": 5,
     "metadata": {},
     "output_type": "execute_result"
    }
   ],
   "source": [
    "X"
   ]
  },
  {
   "cell_type": "code",
   "execution_count": 6,
   "metadata": {
    "ExecuteTime": {
     "end_time": "2020-01-11T07:05:32.132524Z",
     "start_time": "2020-01-11T07:05:32.056524Z"
    }
   },
   "outputs": [
    {
     "data": {
      "text/html": [
       "<div>\n",
       "<style scoped>\n",
       "    .dataframe tbody tr th:only-of-type {\n",
       "        vertical-align: middle;\n",
       "    }\n",
       "\n",
       "    .dataframe tbody tr th {\n",
       "        vertical-align: top;\n",
       "    }\n",
       "\n",
       "    .dataframe thead th {\n",
       "        text-align: right;\n",
       "    }\n",
       "</style>\n",
       "<table border=\"1\" class=\"dataframe\">\n",
       "  <thead>\n",
       "    <tr style=\"text-align: right;\">\n",
       "      <th></th>\n",
       "      <th>X_Minimum</th>\n",
       "      <th>X_Maximum</th>\n",
       "      <th>Y_Minimum</th>\n",
       "      <th>Y_Maximum</th>\n",
       "      <th>Pixels_Areas</th>\n",
       "      <th>X_Perimeter</th>\n",
       "      <th>Y_Perimeter</th>\n",
       "      <th>Sum_of_Luminosity</th>\n",
       "      <th>Minimum_of_Luminosity</th>\n",
       "      <th>Maximum_of_Luminosity</th>\n",
       "      <th>...</th>\n",
       "      <th>Outside_X_Index</th>\n",
       "      <th>Edges_X_Index</th>\n",
       "      <th>Edges_Y_Index</th>\n",
       "      <th>Outside_Global_Index</th>\n",
       "      <th>LogOfAreas</th>\n",
       "      <th>Log_X_Index</th>\n",
       "      <th>Log_Y_Index</th>\n",
       "      <th>Orientation_Index</th>\n",
       "      <th>Luminosity_Index</th>\n",
       "      <th>SigmoidOfAreas</th>\n",
       "    </tr>\n",
       "  </thead>\n",
       "  <tbody>\n",
       "    <tr>\n",
       "      <th>count</th>\n",
       "      <td>1941.000000</td>\n",
       "      <td>1941.000000</td>\n",
       "      <td>1.941000e+03</td>\n",
       "      <td>1.941000e+03</td>\n",
       "      <td>1941.000000</td>\n",
       "      <td>1941.000000</td>\n",
       "      <td>1941.000000</td>\n",
       "      <td>1.941000e+03</td>\n",
       "      <td>1941.000000</td>\n",
       "      <td>1941.000000</td>\n",
       "      <td>...</td>\n",
       "      <td>1941.000000</td>\n",
       "      <td>1941.000000</td>\n",
       "      <td>1941.000000</td>\n",
       "      <td>1941.000000</td>\n",
       "      <td>1941.000000</td>\n",
       "      <td>1941.000000</td>\n",
       "      <td>1941.000000</td>\n",
       "      <td>1941.000000</td>\n",
       "      <td>1941.000000</td>\n",
       "      <td>1941.000000</td>\n",
       "    </tr>\n",
       "    <tr>\n",
       "      <th>unique</th>\n",
       "      <td>NaN</td>\n",
       "      <td>NaN</td>\n",
       "      <td>NaN</td>\n",
       "      <td>NaN</td>\n",
       "      <td>NaN</td>\n",
       "      <td>NaN</td>\n",
       "      <td>NaN</td>\n",
       "      <td>NaN</td>\n",
       "      <td>NaN</td>\n",
       "      <td>NaN</td>\n",
       "      <td>...</td>\n",
       "      <td>NaN</td>\n",
       "      <td>NaN</td>\n",
       "      <td>NaN</td>\n",
       "      <td>NaN</td>\n",
       "      <td>NaN</td>\n",
       "      <td>NaN</td>\n",
       "      <td>NaN</td>\n",
       "      <td>NaN</td>\n",
       "      <td>NaN</td>\n",
       "      <td>NaN</td>\n",
       "    </tr>\n",
       "    <tr>\n",
       "      <th>top</th>\n",
       "      <td>NaN</td>\n",
       "      <td>NaN</td>\n",
       "      <td>NaN</td>\n",
       "      <td>NaN</td>\n",
       "      <td>NaN</td>\n",
       "      <td>NaN</td>\n",
       "      <td>NaN</td>\n",
       "      <td>NaN</td>\n",
       "      <td>NaN</td>\n",
       "      <td>NaN</td>\n",
       "      <td>...</td>\n",
       "      <td>NaN</td>\n",
       "      <td>NaN</td>\n",
       "      <td>NaN</td>\n",
       "      <td>NaN</td>\n",
       "      <td>NaN</td>\n",
       "      <td>NaN</td>\n",
       "      <td>NaN</td>\n",
       "      <td>NaN</td>\n",
       "      <td>NaN</td>\n",
       "      <td>NaN</td>\n",
       "    </tr>\n",
       "    <tr>\n",
       "      <th>freq</th>\n",
       "      <td>NaN</td>\n",
       "      <td>NaN</td>\n",
       "      <td>NaN</td>\n",
       "      <td>NaN</td>\n",
       "      <td>NaN</td>\n",
       "      <td>NaN</td>\n",
       "      <td>NaN</td>\n",
       "      <td>NaN</td>\n",
       "      <td>NaN</td>\n",
       "      <td>NaN</td>\n",
       "      <td>...</td>\n",
       "      <td>NaN</td>\n",
       "      <td>NaN</td>\n",
       "      <td>NaN</td>\n",
       "      <td>NaN</td>\n",
       "      <td>NaN</td>\n",
       "      <td>NaN</td>\n",
       "      <td>NaN</td>\n",
       "      <td>NaN</td>\n",
       "      <td>NaN</td>\n",
       "      <td>NaN</td>\n",
       "    </tr>\n",
       "    <tr>\n",
       "      <th>mean</th>\n",
       "      <td>571.136012</td>\n",
       "      <td>617.964451</td>\n",
       "      <td>1.650685e+06</td>\n",
       "      <td>1.650739e+06</td>\n",
       "      <td>1893.878413</td>\n",
       "      <td>111.855229</td>\n",
       "      <td>82.965997</td>\n",
       "      <td>2.063121e+05</td>\n",
       "      <td>84.548686</td>\n",
       "      <td>130.193715</td>\n",
       "      <td>...</td>\n",
       "      <td>0.033361</td>\n",
       "      <td>0.610529</td>\n",
       "      <td>0.813472</td>\n",
       "      <td>0.575734</td>\n",
       "      <td>2.492388</td>\n",
       "      <td>1.335686</td>\n",
       "      <td>1.403271</td>\n",
       "      <td>0.083288</td>\n",
       "      <td>-0.131305</td>\n",
       "      <td>0.585420</td>\n",
       "    </tr>\n",
       "    <tr>\n",
       "      <th>std</th>\n",
       "      <td>520.690671</td>\n",
       "      <td>497.627410</td>\n",
       "      <td>1.774578e+06</td>\n",
       "      <td>1.774590e+06</td>\n",
       "      <td>5168.459560</td>\n",
       "      <td>301.209187</td>\n",
       "      <td>426.482879</td>\n",
       "      <td>5.122936e+05</td>\n",
       "      <td>32.134276</td>\n",
       "      <td>18.690992</td>\n",
       "      <td>...</td>\n",
       "      <td>0.058961</td>\n",
       "      <td>0.243277</td>\n",
       "      <td>0.234274</td>\n",
       "      <td>0.482352</td>\n",
       "      <td>0.788930</td>\n",
       "      <td>0.481612</td>\n",
       "      <td>0.454345</td>\n",
       "      <td>0.500868</td>\n",
       "      <td>0.148767</td>\n",
       "      <td>0.339452</td>\n",
       "    </tr>\n",
       "    <tr>\n",
       "      <th>min</th>\n",
       "      <td>0.000000</td>\n",
       "      <td>4.000000</td>\n",
       "      <td>6.712000e+03</td>\n",
       "      <td>6.724000e+03</td>\n",
       "      <td>2.000000</td>\n",
       "      <td>2.000000</td>\n",
       "      <td>1.000000</td>\n",
       "      <td>2.500000e+02</td>\n",
       "      <td>0.000000</td>\n",
       "      <td>37.000000</td>\n",
       "      <td>...</td>\n",
       "      <td>0.001500</td>\n",
       "      <td>0.014400</td>\n",
       "      <td>0.048400</td>\n",
       "      <td>0.000000</td>\n",
       "      <td>0.301000</td>\n",
       "      <td>0.301000</td>\n",
       "      <td>0.000000</td>\n",
       "      <td>-0.991000</td>\n",
       "      <td>-0.998900</td>\n",
       "      <td>0.119000</td>\n",
       "    </tr>\n",
       "    <tr>\n",
       "      <th>25%</th>\n",
       "      <td>51.000000</td>\n",
       "      <td>192.000000</td>\n",
       "      <td>4.712530e+05</td>\n",
       "      <td>4.712810e+05</td>\n",
       "      <td>84.000000</td>\n",
       "      <td>15.000000</td>\n",
       "      <td>13.000000</td>\n",
       "      <td>9.522000e+03</td>\n",
       "      <td>63.000000</td>\n",
       "      <td>124.000000</td>\n",
       "      <td>...</td>\n",
       "      <td>0.006600</td>\n",
       "      <td>0.411800</td>\n",
       "      <td>0.596800</td>\n",
       "      <td>0.000000</td>\n",
       "      <td>1.924300</td>\n",
       "      <td>1.000000</td>\n",
       "      <td>1.079200</td>\n",
       "      <td>-0.333300</td>\n",
       "      <td>-0.195000</td>\n",
       "      <td>0.248200</td>\n",
       "    </tr>\n",
       "    <tr>\n",
       "      <th>50%</th>\n",
       "      <td>435.000000</td>\n",
       "      <td>467.000000</td>\n",
       "      <td>1.204128e+06</td>\n",
       "      <td>1.204136e+06</td>\n",
       "      <td>174.000000</td>\n",
       "      <td>26.000000</td>\n",
       "      <td>25.000000</td>\n",
       "      <td>1.920200e+04</td>\n",
       "      <td>90.000000</td>\n",
       "      <td>127.000000</td>\n",
       "      <td>...</td>\n",
       "      <td>0.010100</td>\n",
       "      <td>0.636400</td>\n",
       "      <td>0.947400</td>\n",
       "      <td>1.000000</td>\n",
       "      <td>2.240600</td>\n",
       "      <td>1.176100</td>\n",
       "      <td>1.322200</td>\n",
       "      <td>0.095200</td>\n",
       "      <td>-0.133000</td>\n",
       "      <td>0.506300</td>\n",
       "    </tr>\n",
       "    <tr>\n",
       "      <th>75%</th>\n",
       "      <td>1053.000000</td>\n",
       "      <td>1072.000000</td>\n",
       "      <td>2.183073e+06</td>\n",
       "      <td>2.183084e+06</td>\n",
       "      <td>822.000000</td>\n",
       "      <td>84.000000</td>\n",
       "      <td>83.000000</td>\n",
       "      <td>8.301100e+04</td>\n",
       "      <td>106.000000</td>\n",
       "      <td>140.000000</td>\n",
       "      <td>...</td>\n",
       "      <td>0.023500</td>\n",
       "      <td>0.800000</td>\n",
       "      <td>1.000000</td>\n",
       "      <td>1.000000</td>\n",
       "      <td>2.914900</td>\n",
       "      <td>1.518500</td>\n",
       "      <td>1.732400</td>\n",
       "      <td>0.511600</td>\n",
       "      <td>-0.066600</td>\n",
       "      <td>0.999800</td>\n",
       "    </tr>\n",
       "    <tr>\n",
       "      <th>max</th>\n",
       "      <td>1705.000000</td>\n",
       "      <td>1713.000000</td>\n",
       "      <td>1.298766e+07</td>\n",
       "      <td>1.298769e+07</td>\n",
       "      <td>152655.000000</td>\n",
       "      <td>10449.000000</td>\n",
       "      <td>18152.000000</td>\n",
       "      <td>1.159141e+07</td>\n",
       "      <td>203.000000</td>\n",
       "      <td>253.000000</td>\n",
       "      <td>...</td>\n",
       "      <td>0.875900</td>\n",
       "      <td>1.000000</td>\n",
       "      <td>1.000000</td>\n",
       "      <td>1.000000</td>\n",
       "      <td>5.183700</td>\n",
       "      <td>3.074100</td>\n",
       "      <td>4.258700</td>\n",
       "      <td>0.991700</td>\n",
       "      <td>0.642100</td>\n",
       "      <td>1.000000</td>\n",
       "    </tr>\n",
       "  </tbody>\n",
       "</table>\n",
       "<p>11 rows × 27 columns</p>\n",
       "</div>"
      ],
      "text/plain": [
       "          X_Minimum    X_Maximum     Y_Minimum     Y_Maximum   Pixels_Areas  \\\n",
       "count   1941.000000  1941.000000  1.941000e+03  1.941000e+03    1941.000000   \n",
       "unique          NaN          NaN           NaN           NaN            NaN   \n",
       "top             NaN          NaN           NaN           NaN            NaN   \n",
       "freq            NaN          NaN           NaN           NaN            NaN   \n",
       "mean     571.136012   617.964451  1.650685e+06  1.650739e+06    1893.878413   \n",
       "std      520.690671   497.627410  1.774578e+06  1.774590e+06    5168.459560   \n",
       "min        0.000000     4.000000  6.712000e+03  6.724000e+03       2.000000   \n",
       "25%       51.000000   192.000000  4.712530e+05  4.712810e+05      84.000000   \n",
       "50%      435.000000   467.000000  1.204128e+06  1.204136e+06     174.000000   \n",
       "75%     1053.000000  1072.000000  2.183073e+06  2.183084e+06     822.000000   \n",
       "max     1705.000000  1713.000000  1.298766e+07  1.298769e+07  152655.000000   \n",
       "\n",
       "         X_Perimeter   Y_Perimeter  Sum_of_Luminosity  Minimum_of_Luminosity  \\\n",
       "count    1941.000000   1941.000000       1.941000e+03            1941.000000   \n",
       "unique           NaN           NaN                NaN                    NaN   \n",
       "top              NaN           NaN                NaN                    NaN   \n",
       "freq             NaN           NaN                NaN                    NaN   \n",
       "mean      111.855229     82.965997       2.063121e+05              84.548686   \n",
       "std       301.209187    426.482879       5.122936e+05              32.134276   \n",
       "min         2.000000      1.000000       2.500000e+02               0.000000   \n",
       "25%        15.000000     13.000000       9.522000e+03              63.000000   \n",
       "50%        26.000000     25.000000       1.920200e+04              90.000000   \n",
       "75%        84.000000     83.000000       8.301100e+04             106.000000   \n",
       "max     10449.000000  18152.000000       1.159141e+07             203.000000   \n",
       "\n",
       "        Maximum_of_Luminosity  ...  Outside_X_Index Edges_X_Index  \\\n",
       "count             1941.000000  ...      1941.000000   1941.000000   \n",
       "unique                    NaN  ...              NaN           NaN   \n",
       "top                       NaN  ...              NaN           NaN   \n",
       "freq                      NaN  ...              NaN           NaN   \n",
       "mean               130.193715  ...         0.033361      0.610529   \n",
       "std                 18.690992  ...         0.058961      0.243277   \n",
       "min                 37.000000  ...         0.001500      0.014400   \n",
       "25%                124.000000  ...         0.006600      0.411800   \n",
       "50%                127.000000  ...         0.010100      0.636400   \n",
       "75%                140.000000  ...         0.023500      0.800000   \n",
       "max                253.000000  ...         0.875900      1.000000   \n",
       "\n",
       "       Edges_Y_Index  Outside_Global_Index   LogOfAreas  Log_X_Index  \\\n",
       "count    1941.000000           1941.000000  1941.000000  1941.000000   \n",
       "unique           NaN                   NaN          NaN          NaN   \n",
       "top              NaN                   NaN          NaN          NaN   \n",
       "freq             NaN                   NaN          NaN          NaN   \n",
       "mean        0.813472              0.575734     2.492388     1.335686   \n",
       "std         0.234274              0.482352     0.788930     0.481612   \n",
       "min         0.048400              0.000000     0.301000     0.301000   \n",
       "25%         0.596800              0.000000     1.924300     1.000000   \n",
       "50%         0.947400              1.000000     2.240600     1.176100   \n",
       "75%         1.000000              1.000000     2.914900     1.518500   \n",
       "max         1.000000              1.000000     5.183700     3.074100   \n",
       "\n",
       "        Log_Y_Index  Orientation_Index  Luminosity_Index  SigmoidOfAreas  \n",
       "count   1941.000000        1941.000000       1941.000000     1941.000000  \n",
       "unique          NaN                NaN               NaN             NaN  \n",
       "top             NaN                NaN               NaN             NaN  \n",
       "freq            NaN                NaN               NaN             NaN  \n",
       "mean       1.403271           0.083288         -0.131305        0.585420  \n",
       "std        0.454345           0.500868          0.148767        0.339452  \n",
       "min        0.000000          -0.991000         -0.998900        0.119000  \n",
       "25%        1.079200          -0.333300         -0.195000        0.248200  \n",
       "50%        1.322200           0.095200         -0.133000        0.506300  \n",
       "75%        1.732400           0.511600         -0.066600        0.999800  \n",
       "max        4.258700           0.991700          0.642100        1.000000  \n",
       "\n",
       "[11 rows x 27 columns]"
      ]
     },
     "metadata": {},
     "output_type": "display_data"
    }
   ],
   "source": [
    "display(X.describe(include = 'all'))"
   ]
  },
  {
   "cell_type": "code",
   "execution_count": 7,
   "metadata": {
    "ExecuteTime": {
     "end_time": "2020-01-11T07:05:32.325524Z",
     "start_time": "2020-01-11T07:05:32.321524Z"
    }
   },
   "outputs": [],
   "source": [
    "x_np = np.asarray(X)"
   ]
  },
  {
   "cell_type": "code",
   "execution_count": 8,
   "metadata": {
    "ExecuteTime": {
     "end_time": "2020-01-11T07:05:32.606524Z",
     "start_time": "2020-01-11T07:05:32.603524Z"
    }
   },
   "outputs": [
    {
     "data": {
      "text/plain": [
       "array([[42, 50, 270900, ..., 0.8182, -0.2913, 0.5822],\n",
       "       [645, 651, 2538079, ..., 0.7931, -0.1756, 0.2984],\n",
       "       [829, 835, 1553913, ..., 0.6667, -0.1228, 0.215],\n",
       "       ...,\n",
       "       [145, 174, 386779, ..., -0.4828, 0.0052, 0.7079],\n",
       "       [137, 170, 422497, ..., -0.0606, -0.0171, 0.9919],\n",
       "       [1261, 1281, 87951, ..., -0.2, -0.1139, 0.5296]], dtype=object)"
      ]
     },
     "execution_count": 8,
     "metadata": {},
     "output_type": "execute_result"
    }
   ],
   "source": [
    "x_np"
   ]
  },
  {
   "cell_type": "code",
   "execution_count": 9,
   "metadata": {
    "ExecuteTime": {
     "end_time": "2020-01-11T07:05:33.074524Z",
     "start_time": "2020-01-11T07:05:33.068524Z"
    }
   },
   "outputs": [],
   "source": [
    "x_norm = x_np.copy()\n",
    "\n",
    "x_min = np.min(x_norm, axis = 0)\n",
    "x_norm = np.subtract(x_norm, x_min)"
   ]
  },
  {
   "cell_type": "code",
   "execution_count": 10,
   "metadata": {
    "ExecuteTime": {
     "end_time": "2020-01-11T07:05:33.487524Z",
     "start_time": "2020-01-11T07:05:33.484524Z"
    }
   },
   "outputs": [
    {
     "data": {
      "text/plain": [
       "array([[42, 50, 270900, ..., 0.8182, -0.2913, 0.5822],\n",
       "       [645, 651, 2538079, ..., 0.7931, -0.1756, 0.2984],\n",
       "       [829, 835, 1553913, ..., 0.6667, -0.1228, 0.215],\n",
       "       ...,\n",
       "       [145, 174, 386779, ..., -0.4828, 0.0052, 0.7079],\n",
       "       [137, 170, 422497, ..., -0.0606, -0.0171, 0.9919],\n",
       "       [1261, 1281, 87951, ..., -0.2, -0.1139, 0.5296]], dtype=object)"
      ]
     },
     "execution_count": 10,
     "metadata": {},
     "output_type": "execute_result"
    }
   ],
   "source": [
    "x_np"
   ]
  },
  {
   "cell_type": "code",
   "execution_count": 11,
   "metadata": {
    "ExecuteTime": {
     "end_time": "2020-01-11T07:05:33.795524Z",
     "start_time": "2020-01-11T07:05:33.792524Z"
    }
   },
   "outputs": [
    {
     "data": {
      "text/plain": [
       "array([0, 4, 6712, 6724, 2, 2, 1, 250, 0, 37, 1227, False, False, 40, 0.0,\n",
       "       0.0, 0.0083, 0.0015, 0.0144, 0.0484, 0.0, 0.301, 0.301, 0.0,\n",
       "       -0.991, -0.9989, 0.11900000000000001], dtype=object)"
      ]
     },
     "execution_count": 11,
     "metadata": {},
     "output_type": "execute_result"
    }
   ],
   "source": [
    "x_min"
   ]
  },
  {
   "cell_type": "code",
   "execution_count": 12,
   "metadata": {
    "ExecuteTime": {
     "end_time": "2020-01-11T07:05:34.352524Z",
     "start_time": "2020-01-11T07:05:34.349524Z"
    }
   },
   "outputs": [
    {
     "data": {
      "text/plain": [
       "array([[42, 46, 264188, ..., 1.8092000000000001, 0.7076,\n",
       "        0.46320000000000006],\n",
       "       [645, 647, 2531367, ..., 1.7841, 0.8233, 0.1794],\n",
       "       [829, 831, 1547201, ..., 1.6577, 0.8761, 0.09599999999999999],\n",
       "       ...,\n",
       "       [145, 170, 380067, ..., 0.5082, 1.0041, 0.5889],\n",
       "       [137, 166, 415785, ..., 0.9304, 0.9818, 0.8729],\n",
       "       [1261, 1277, 81239, ..., 0.7909999999999999, 0.885,\n",
       "        0.41059999999999997]], dtype=object)"
      ]
     },
     "execution_count": 12,
     "metadata": {},
     "output_type": "execute_result"
    }
   ],
   "source": [
    "x_norm"
   ]
  },
  {
   "cell_type": "code",
   "execution_count": 13,
   "metadata": {
    "ExecuteTime": {
     "end_time": "2020-01-11T07:05:34.983524Z",
     "start_time": "2020-01-11T07:05:34.977524Z"
    }
   },
   "outputs": [],
   "source": [
    "x_max = np.max(x_norm, axis = 0)\n",
    "x_norm /= (1.2*x_max)"
   ]
  },
  {
   "cell_type": "code",
   "execution_count": 14,
   "metadata": {
    "ExecuteTime": {
     "end_time": "2020-01-11T07:05:35.268524Z",
     "start_time": "2020-01-11T07:05:35.265524Z"
    }
   },
   "outputs": [
    {
     "data": {
      "text/plain": [
       "array([1705, 1709, 12980949, 12980968, 152653, 10447, 18151, 11591164,\n",
       "       203, 216, 567, 1, 1, 260, 0.9952, 0.9439, 0.9917,\n",
       "       0.8744000000000001, 0.9856, 0.9516, 1.0, 4.8827, 2.7731, 4.2587,\n",
       "       1.9827, 1.641, 0.881], dtype=object)"
      ]
     },
     "execution_count": 14,
     "metadata": {},
     "output_type": "execute_result"
    }
   ],
   "source": [
    "x_max"
   ]
  },
  {
   "cell_type": "code",
   "execution_count": 15,
   "metadata": {
    "ExecuteTime": {
     "end_time": "2020-01-11T07:05:35.714524Z",
     "start_time": "2020-01-11T07:05:35.710524Z"
    }
   },
   "outputs": [
    {
     "data": {
      "text/plain": [
       "array([2046.0, 2050.7999999999997, 15577138.799999999, 15577161.6,\n",
       "       183183.6, 12536.4, 21781.2, 13909396.799999999, 243.6, 259.2,\n",
       "       680.4, 1.2, 1.2, 312.0, 1.19424, 1.13268, 1.19004, 1.04928,\n",
       "       1.18272, 1.14192, 1.2, 5.85924, 3.32772, 5.11044, 2.37924,\n",
       "       1.9691999999999998, 1.0572], dtype=object)"
      ]
     },
     "execution_count": 15,
     "metadata": {},
     "output_type": "execute_result"
    }
   ],
   "source": [
    "(1.2*x_max)"
   ]
  },
  {
   "cell_type": "code",
   "execution_count": 16,
   "metadata": {
    "ExecuteTime": {
     "end_time": "2020-01-11T07:05:36.505524Z",
     "start_time": "2020-01-11T07:05:36.494524Z"
    }
   },
   "outputs": [
    {
     "data": {
      "text/plain": [
       "array([[0.020527859237536656, 0.022430271113711726, 0.016959982407038707,\n",
       "        ..., 0.7604108875102975, 0.3593337395896811, 0.4381384790011352],\n",
       "       [0.3152492668621701, 0.3154866393602497, 0.1625052605938133, ...,\n",
       "        0.7498613002471378, 0.4180885638838107, 0.16969353007945517],\n",
       "       [0.4051808406647116, 0.4052077238150966, 0.09932510840822707, ...,\n",
       "        0.6967350918780788, 0.4449014828356693, 0.09080590238365494],\n",
       "       ...,\n",
       "       [0.07086999022482894, 0.08289448020284768, 0.02439902506357586,\n",
       "        ..., 0.21359761940787816, 0.5099024984765387, 0.5570374574347333],\n",
       "       [0.06695992179863147, 0.08094402184513362, 0.02669200071581824,\n",
       "        ..., 0.39104924261528895, 0.498578102782856, 0.8256715853197125],\n",
       "       [0.6163245356793744, 0.6226838307002146, 0.005215270984168159,\n",
       "        ..., 0.3324591045880197, 0.4494210847044485, 0.38838441165342413]],\n",
       "      dtype=object)"
      ]
     },
     "execution_count": 16,
     "metadata": {},
     "output_type": "execute_result"
    }
   ],
   "source": [
    "x_norm"
   ]
  },
  {
   "cell_type": "code",
   "execution_count": 17,
   "metadata": {
    "ExecuteTime": {
     "end_time": "2020-01-11T07:05:36.720524Z",
     "start_time": "2020-01-11T07:05:36.716524Z"
    }
   },
   "outputs": [
    {
     "data": {
      "text/plain": [
       "0.8333333333333335"
      ]
     },
     "execution_count": 17,
     "metadata": {},
     "output_type": "execute_result"
    }
   ],
   "source": [
    "np.max(x_norm)"
   ]
  },
  {
   "cell_type": "code",
   "execution_count": 18,
   "metadata": {
    "ExecuteTime": {
     "end_time": "2020-01-11T07:05:37.505524Z",
     "start_time": "2020-01-11T07:05:37.494524Z"
    }
   },
   "outputs": [
    {
     "data": {
      "text/plain": [
       "(1941, 27)"
      ]
     },
     "execution_count": 18,
     "metadata": {},
     "output_type": "execute_result"
    }
   ],
   "source": [
    "x_norm.shape"
   ]
  },
  {
   "cell_type": "markdown",
   "metadata": {},
   "source": [
    "## One-Hot Encoding"
   ]
  },
  {
   "cell_type": "code",
   "execution_count": 19,
   "metadata": {
    "ExecuteTime": {
     "end_time": "2020-01-11T07:05:38.358524Z",
     "start_time": "2020-01-11T07:05:38.354524Z"
    }
   },
   "outputs": [
    {
     "data": {
      "text/plain": [
       "0             Pastry\n",
       "1             Pastry\n",
       "2             Pastry\n",
       "3             Pastry\n",
       "4             Pastry\n",
       "            ...     \n",
       "1936    Other_Faults\n",
       "1937    Other_Faults\n",
       "1938    Other_Faults\n",
       "1939    Other_Faults\n",
       "1940    Other_Faults\n",
       "Name: Fault, Length: 1941, dtype: object"
      ]
     },
     "execution_count": 19,
     "metadata": {},
     "output_type": "execute_result"
    }
   ],
   "source": [
    "Y"
   ]
  },
  {
   "cell_type": "code",
   "execution_count": 20,
   "metadata": {
    "ExecuteTime": {
     "end_time": "2020-01-11T07:05:38.755524Z",
     "start_time": "2020-01-11T07:05:38.751524Z"
    }
   },
   "outputs": [
    {
     "data": {
      "text/plain": [
       "['Bumps',\n",
       " 'Dirtiness',\n",
       " 'K_Scatch',\n",
       " 'Other_Faults',\n",
       " 'Pastry',\n",
       " 'Stains',\n",
       " 'Z_Scratch']"
      ]
     },
     "execution_count": 20,
     "metadata": {},
     "output_type": "execute_result"
    }
   ],
   "source": [
    "labels = list(np.unique(Y))\n",
    "labels"
   ]
  },
  {
   "cell_type": "code",
   "execution_count": 21,
   "metadata": {
    "ExecuteTime": {
     "end_time": "2020-01-11T07:05:39.018524Z",
     "start_time": "2020-01-11T07:05:39.014524Z"
    }
   },
   "outputs": [
    {
     "data": {
      "text/plain": [
       "{'Bumps': 0,\n",
       " 'Dirtiness': 1,\n",
       " 'K_Scatch': 2,\n",
       " 'Other_Faults': 3,\n",
       " 'Pastry': 4,\n",
       " 'Stains': 5,\n",
       " 'Z_Scratch': 6}"
      ]
     },
     "execution_count": 21,
     "metadata": {},
     "output_type": "execute_result"
    }
   ],
   "source": [
    "label_dict = {}\n",
    "\n",
    "for i, l in zip(range(len(labels)), labels):\n",
    "    label_dict[l] = i\n",
    "    \n",
    "label_dict"
   ]
  },
  {
   "cell_type": "code",
   "execution_count": 22,
   "metadata": {
    "ExecuteTime": {
     "end_time": "2020-01-11T07:05:39.378524Z",
     "start_time": "2020-01-11T07:05:39.362524Z"
    }
   },
   "outputs": [],
   "source": [
    "y_class = np.zeros(Y.shape)\n",
    "\n",
    "for i in range(len(Y)):\n",
    "    y_class[i] =  label_dict[Y[i]]"
   ]
  },
  {
   "cell_type": "code",
   "execution_count": 23,
   "metadata": {
    "ExecuteTime": {
     "end_time": "2020-01-11T07:05:39.961524Z",
     "start_time": "2020-01-11T07:05:39.958524Z"
    }
   },
   "outputs": [
    {
     "data": {
      "text/plain": [
       "array([4., 4., 4., ..., 3., 3., 3.])"
      ]
     },
     "execution_count": 23,
     "metadata": {},
     "output_type": "execute_result"
    }
   ],
   "source": [
    "y_class"
   ]
  },
  {
   "cell_type": "code",
   "execution_count": 24,
   "metadata": {
    "ExecuteTime": {
     "end_time": "2020-01-11T07:05:40.276524Z",
     "start_time": "2020-01-11T07:05:40.273524Z"
    }
   },
   "outputs": [],
   "source": [
    "def one_hot_encoding(y):\n",
    "    y_ = np.zeros([len(y), np.max(y) + 1])\n",
    "    for i in range(len(y)):\n",
    "        y_[i, y[i]] = 1  \n",
    "    return y_.astype('uint8')"
   ]
  },
  {
   "cell_type": "code",
   "execution_count": 25,
   "metadata": {
    "ExecuteTime": {
     "end_time": "2020-01-11T07:05:40.603524Z",
     "start_time": "2020-01-11T07:05:40.600524Z"
    }
   },
   "outputs": [],
   "source": [
    "y_ohe = one_hot_encoding(y_class.astype('uint8'))"
   ]
  },
  {
   "cell_type": "code",
   "execution_count": 26,
   "metadata": {
    "ExecuteTime": {
     "end_time": "2020-01-11T07:05:43.768524Z",
     "start_time": "2020-01-11T07:05:43.759524Z"
    }
   },
   "outputs": [
    {
     "data": {
      "text/plain": [
       "array([[0, 0, 0, ..., 1, 0, 0],\n",
       "       [0, 0, 0, ..., 1, 0, 0],\n",
       "       [0, 0, 0, ..., 1, 0, 0],\n",
       "       ...,\n",
       "       [0, 0, 0, ..., 0, 0, 0],\n",
       "       [0, 0, 0, ..., 0, 0, 0],\n",
       "       [0, 0, 0, ..., 0, 0, 0]], dtype=uint8)"
      ]
     },
     "execution_count": 26,
     "metadata": {},
     "output_type": "execute_result"
    }
   ],
   "source": [
    "y_ohe"
   ]
  },
  {
   "cell_type": "code",
   "execution_count": 27,
   "metadata": {
    "ExecuteTime": {
     "end_time": "2020-01-11T07:05:43.951524Z",
     "start_time": "2020-01-11T07:05:43.948524Z"
    }
   },
   "outputs": [
    {
     "data": {
      "text/plain": [
       "(1941, 7)"
      ]
     },
     "execution_count": 27,
     "metadata": {},
     "output_type": "execute_result"
    }
   ],
   "source": [
    "y_ohe.shape"
   ]
  },
  {
   "cell_type": "markdown",
   "metadata": {},
   "source": [
    "# ANN Model"
   ]
  },
  {
   "cell_type": "markdown",
   "metadata": {},
   "source": [
    "## 0. Base model"
   ]
  },
  {
   "cell_type": "code",
   "execution_count": null,
   "metadata": {
    "ExecuteTime": {
     "end_time": "2020-01-11T06:23:19.078524Z",
     "start_time": "2020-01-11T06:23:19.075524Z"
    }
   },
   "outputs": [],
   "source": [
    "n_input = ??\n",
    "n_hidden1 = ??\n",
    "n_hidden2 = ??\n",
    "n_output = ??"
   ]
  },
  {
   "cell_type": "code",
   "execution_count": null,
   "metadata": {
    "ExecuteTime": {
     "end_time": "2020-01-11T06:23:19.117524Z",
     "start_time": "2020-01-11T06:23:19.079524Z"
    }
   },
   "outputs": [],
   "source": [
    "tf.reset_default_graph()\n",
    "\n",
    "weights = {\n",
    "    'hidden1' : tf.Variable(tf.random_normal([n_input, n_hidden1], stddev = 0.1)),\n",
    "    'hidden2' : tf.Variable(tf.random_normal([n_hidden1, n_hidden2], stddev = 0.1)),\n",
    "    'output' : tf.Variable(tf.random_normal([n_hidden2, n_output], stddev = 0.1))\n",
    "}\n",
    "\n",
    "biases = {\n",
    "    'hidden1' : tf.Variable(tf.random_normal([n_hidden1], stddev = 0.1)),\n",
    "    'hidden2' : tf.Variable(tf.random_normal([n_hidden2], stddev = 0.1)),\n",
    "    'output' : tf.Variable(tf.random_normal([n_output], stddev = 0.1))\n",
    "}\n",
    "\n",
    "x = tf.placeholder(tf.float32, [None, n_input])\n",
    "y = tf.placeholder(tf.float32, [None, n_output])\n",
    "lr = tf.placeholder(tf.float32)"
   ]
  },
  {
   "cell_type": "code",
   "execution_count": null,
   "metadata": {
    "ExecuteTime": {
     "end_time": "2020-01-11T06:23:19.238524Z",
     "start_time": "2020-01-11T06:23:19.118524Z"
    },
    "code_folding": [
     7
    ]
   },
   "outputs": [],
   "source": [
    "# Define Network\n",
    "def base_model(x, weights, biases):\n",
    "        \n",
    "    \"\"\"\n",
    "    build your own model\n",
    "    \n",
    "    \n",
    "    \n",
    "    \"\"\"\n",
    "    \n",
    "    return output\n",
    "\n",
    "pred = base_model(x, weights, biases)\n",
    "loss = tf.nn.softmax_cross_entropy_with_logits_v2(logits = pred, labels = y)\n",
    "loss = tf.reduce_mean(loss)\n",
    "optm = tf.train.AdamOptimizer(lr).minimize(loss)"
   ]
  },
  {
   "cell_type": "code",
   "execution_count": null,
   "metadata": {
    "ExecuteTime": {
     "end_time": "2020-01-11T06:23:19.243524Z",
     "start_time": "2020-01-11T06:23:19.239524Z"
    },
    "code_folding": []
   },
   "outputs": [],
   "source": [
    "# train_valid_split\n",
    "def train_valid_split(x, y, test_rate = 0.2):\n",
    "    v_idx = np.random.choice(len(x), size = int(len(x)*test_rate), replace = False)\n",
    "    t_idx = np.setdiff1d(np.arange(len(x)), v_idx)\n",
    "    return x[t_idx], y[t_idx], x[v_idx], y[v_idx]\n",
    "\n",
    "# for minibatch gradient descent\n",
    "def minibatch(x, y, batch_size = None):\n",
    "    idx = np.random.choice(len(x), batch_size, replace=False)\n",
    "    return x[idx], y[idx]"
   ]
  },
  {
   "cell_type": "markdown",
   "metadata": {},
   "source": [
    "## 1. Not normalized VS Normalized (Input Scaling)"
   ]
  },
  {
   "cell_type": "markdown",
   "metadata": {
    "ExecuteTime": {
     "end_time": "2020-01-11T04:35:52.072524Z",
     "start_time": "2020-01-11T04:35:52.066524Z"
    }
   },
   "source": [
    "<img src='.\\image_files\\normalization_for_gd.png' width = 1000>"
   ]
  },
  {
   "cell_type": "code",
   "execution_count": null,
   "metadata": {
    "ExecuteTime": {
     "end_time": "2020-01-11T06:23:19.248524Z",
     "start_time": "2020-01-11T06:23:19.244524Z"
    }
   },
   "outputs": [],
   "source": [
    "train_X, train_Y, valid_X, valid_Y = train_valid_split(x_np, y_ohe)"
   ]
  },
  {
   "cell_type": "code",
   "execution_count": null,
   "metadata": {
    "ExecuteTime": {
     "end_time": "2020-01-11T06:23:19.253524Z",
     "start_time": "2020-01-11T06:23:19.249524Z"
    }
   },
   "outputs": [],
   "source": [
    "train_X_n, train_Y_n, valid_X_n, valid_Y_n = train_valid_split(x_norm, y_ohe)"
   ]
  },
  {
   "cell_type": "code",
   "execution_count": null,
   "metadata": {
    "ExecuteTime": {
     "end_time": "2020-01-11T06:23:19.256524Z",
     "start_time": "2020-01-11T06:23:19.254524Z"
    }
   },
   "outputs": [],
   "source": [
    "n_batch = ??    # Batch Size\n",
    "n_iter = ??   # Learning Iteration\n",
    "n_prt = 100    # Print Cycle\n",
    "LR = ??"
   ]
  },
  {
   "cell_type": "code",
   "execution_count": null,
   "metadata": {
    "ExecuteTime": {
     "end_time": "2020-01-11T06:23:39.653524Z",
     "start_time": "2020-01-11T06:23:19.257524Z"
    },
    "scrolled": true
   },
   "outputs": [],
   "source": [
    "%%time\n",
    "\n",
    "init = tf.global_variables_initializer()\n",
    "sess = tf.Session()\n",
    "sess.run(init)\n",
    "\n",
    "loss_record_train, accr_record_train = [], []\n",
    "\n",
    "\"\"\"\n",
    "train your base model with the not-normalized input\n",
    "\"\"\"\n",
    "for epoch in range(n_iter):\n",
    "    train_x, train_y = minibatch(train_X, train_Y, n_batch)\n",
    "    sess.run(??, feed_dict = {x: train_x, y: train_y, lr: LR}) \n",
    "    \n",
    "    if epoch % n_prt == 0:        \n",
    "\n",
    "        \n",
    "        \n",
    "        \n",
    "        \n",
    "        \n",
    "        \n",
    "        loss_record_train.append(cost)\n",
    "        accr_record_train.append(accr)\n",
    "        \n",
    "        print (\"Iter {:05d} || train_loss: {:.4f} || train_accr: {:.2f}%\".format(epoch, cost, 100*accr))"
   ]
  },
  {
   "cell_type": "code",
   "execution_count": null,
   "metadata": {
    "ExecuteTime": {
     "end_time": "2020-01-11T06:24:00.192524Z",
     "start_time": "2020-01-11T06:23:39.654524Z"
    },
    "scrolled": true
   },
   "outputs": [],
   "source": [
    "%%time\n",
    "\n",
    "sess = tf.Session()\n",
    "sess.run(init)\n",
    "\n",
    "loss_n_record_train, accr_n_record_train = [], []\n",
    "\n",
    "\"\"\"\n",
    "train your base model with the normalized input\n",
    "\"\"\"\n",
    "for epoch in range(n_iter):\n",
    "    train_x, train_y = minibatch(train_X_n, train_Y_n, n_batch)\n",
    "\n",
    "    \n",
    "    if epoch % n_prt == 0:        \n",
    "\n",
    "        \n",
    "        \n",
    "        \n",
    "        \n",
    "        loss_n_record_train.append(cost), accr_n_record_train.append(accr)\n",
    "        \n",
    "        print (\"Iter {:05d} || train_loss: {:.4f} || train_accr: {:.2f}%\".format(epoch, cost, 100*accr))"
   ]
  },
  {
   "cell_type": "code",
   "execution_count": null,
   "metadata": {
    "ExecuteTime": {
     "end_time": "2020-01-11T06:24:00.542524Z",
     "start_time": "2020-01-11T06:24:00.193524Z"
    }
   },
   "outputs": [],
   "source": [
    "not_n_alpha = 1\n",
    "n_alpha = 1\n",
    "\n",
    "plt.figure(figsize=(10,8))\n",
    "plt.plot(np.arange(len(loss_record_train))*n_prt, loss_record_train, 'k-', alpha = not_n_alpha, label = 'Not normalized')\n",
    "plt.plot(np.arange(len(loss_n_record_train))*n_prt, loss_n_record_train, 'b-', alpha = n_alpha,  label = 'Normalilzed')\n",
    "plt.xlabel('Iteration', fontsize = 15)\n",
    "plt.ylabel('Loss', fontsize = 15)\n",
    "plt.ylim([0, 5])\n",
    "plt.legend(fontsize = 12)\n",
    "plt.show()\n",
    "plt.figure(figsize=(10,8))\n",
    "plt.plot(np.arange(len(accr_record_train))*n_prt, accr_record_train, 'k-', alpha = not_n_alpha, label = 'Not normalized')\n",
    "plt.plot(np.arange(len(accr_n_record_train))*n_prt, accr_n_record_train, 'b-', alpha = n_alpha,  label = 'Normalilzed')\n",
    "plt.xlabel('Iteration', fontsize = 15)\n",
    "plt.ylabel('Accuracy', fontsize = 15)\n",
    "plt.legend(fontsize = 12)\n",
    "plt.show()"
   ]
  },
  {
   "cell_type": "markdown",
   "metadata": {},
   "source": [
    "## 2. Batch Normalization (Feature Scaling)"
   ]
  },
  {
   "cell_type": "markdown",
   "metadata": {},
   "source": [
    "<img src='.\\image_files\\batch_normalization.png' width = 1000>"
   ]
  },
  {
   "cell_type": "code",
   "execution_count": null,
   "metadata": {
    "ExecuteTime": {
     "end_time": "2020-01-11T06:24:00.957524Z",
     "start_time": "2020-01-11T06:24:00.543524Z"
    }
   },
   "outputs": [],
   "source": [
    "is_training = tf.placeholder(tf.bool) # BN\n",
    "\n",
    "def BN_model(x, weights, biases, is_training):\n",
    "    \n",
    "    \"\"\"\n",
    "    build your own BN model\n",
    "    \n",
    "    \n",
    "    \n",
    "    \"\"\"\n",
    "    \n",
    "    return output\n",
    "\n",
    "BN_pred = BN_model(x, weights, biases, is_training)\n",
    "BN_loss = tf.nn.softmax_cross_entropy_with_logits_v2(logits = BN_pred, labels = y)\n",
    "BN_loss = tf.reduce_mean(BN_loss)\n",
    "update_ops = tf.get_collection(tf.GraphKeys.UPDATE_OPS)\n",
    "with tf.control_dependencies(update_ops):\n",
    "    BN_optm = tf.train.AdamOptimizer(lr).minimize(BN_loss)"
   ]
  },
  {
   "cell_type": "code",
   "execution_count": null,
   "metadata": {
    "ExecuteTime": {
     "end_time": "2020-01-11T06:24:29.774524Z",
     "start_time": "2020-01-11T06:24:00.958524Z"
    },
    "scrolled": true
   },
   "outputs": [],
   "source": [
    "%%time\n",
    "\n",
    "BN_init = tf.global_variables_initializer()\n",
    "BN_sess = tf.Session()\n",
    "BN_sess.run(BN_init)\n",
    "\n",
    "BN_loss_record_train, BN_accr_record_train = [], []\n",
    "\n",
    "\"\"\"\n",
    "train your BN model with the normalized input\n",
    "\"\"\"\n",
    "\n",
    "for epoch in range(n_iter):\n",
    "    train_x, train_y = minibatch(train_X_n, train_Y_n, n_batch)\n",
    "    BN_sess.run(??, feed_dict = {x: train_x, y: train_y, is_training: True, lr: LR}) \n",
    "    \n",
    "    if epoch % n_prt == 0:        \n",
    "\n",
    "        \n",
    "        \n",
    "        \n",
    "        BN_loss_record_train.append(BN_cost), BN_accr_record_train.append(BN_accr)\n",
    "        \n",
    "        print (\"Iter {:05d} || train_loss: {:.4f} || train_accr: {:.2f}%\".format(epoch,  BN_cost, 100*BN_accr))"
   ]
  },
  {
   "cell_type": "code",
   "execution_count": null,
   "metadata": {
    "ExecuteTime": {
     "end_time": "2020-01-11T06:24:30.114524Z",
     "start_time": "2020-01-11T06:24:29.775524Z"
    }
   },
   "outputs": [],
   "source": [
    "not_n_alpha = 0.3\n",
    "n_alpha = 0.3\n",
    "bn_alpha = 1\n",
    "\n",
    "plt.figure(figsize=(10,8))\n",
    "plt.plot(np.arange(len(loss_record_train))*n_prt, loss_record_train, 'k-', alpha = not_n_alpha, label = 'Not normalized')\n",
    "plt.plot(np.arange(len(loss_n_record_train))*n_prt, loss_n_record_train, 'b-', alpha = n_alpha,  label = 'Normalilzed')\n",
    "plt.plot(np.arange(len(BN_loss_record_train))*n_prt, BN_loss_record_train, 'r-', alpha = bn_alpha,  label = 'Norm. with BN')\n",
    "plt.xlabel('Iteration', fontsize = 15)\n",
    "plt.ylabel('Loss', fontsize = 15)\n",
    "plt.ylim([0, 5])\n",
    "plt.legend(fontsize = 12)\n",
    "plt.show()\n",
    "plt.figure(figsize=(10,8))\n",
    "plt.plot(np.arange(len(accr_record_train))*n_prt, accr_record_train, 'k-', alpha = not_n_alpha, label = 'Not normalized')\n",
    "plt.plot(np.arange(len(accr_n_record_train))*n_prt, accr_n_record_train, 'b-', alpha = n_alpha,  label = 'Normalilzed')\n",
    "plt.plot(np.arange(len(BN_accr_record_train))*n_prt, BN_accr_record_train, 'r-', alpha = bn_alpha,  label = 'Norm. with BN')\n",
    "plt.xlabel('Iteration', fontsize = 15)\n",
    "plt.ylabel('Accuracy', fontsize = 15)\n",
    "plt.legend(fontsize = 12)\n",
    "plt.show()"
   ]
  },
  {
   "cell_type": "markdown",
   "metadata": {},
   "source": [
    "## 3. Validation to check _\"Overfitting\"_"
   ]
  },
  {
   "cell_type": "code",
   "execution_count": null,
   "metadata": {
    "ExecuteTime": {
     "end_time": "2020-01-11T06:24:49.867524Z",
     "start_time": "2020-01-11T06:24:30.115524Z"
    }
   },
   "outputs": [],
   "source": [
    "%%time\n",
    "\n",
    "sess = tf.Session()\n",
    "sess.run(init)\n",
    "\n",
    "loss_n_record_train, accr_n_record_train = [], []\n",
    "loss_n_record_valid, accr_n_record_valid = [], []\n",
    "\n",
    "\"\"\"\n",
    "train and valid your base model with the normalized input\n",
    "\"\"\"\n",
    "\n",
    "for epoch in range(n_iter):\n",
    "    train_x, train_y = minibatch(train_X_n, train_Y_n, n_batch)\n",
    "\n",
    "    \n",
    "    if epoch % n_prt == 0:        \n",
    "        valid_x, valid_y = minibatch(valid_X_n, valid_Y_n, n_batch)\n",
    "\n",
    "        \n",
    "        \n",
    "        \n",
    "        \n",
    "        loss_n_record_train.append(cost), accr_n_record_train.append(accr)\n",
    "        loss_n_record_valid.append(cost_v), accr_n_record_valid.append(accr_v)\n",
    "        \n",
    "        print (\"Iter {:05d} || train_loss: {:.4f} || train_accr: {:.2f}% || valid_loss: {:.4f} || valid_accr: {:.2f}%\".format(epoch, \n",
    "                                                                                                                              cost, 100*accr, \n",
    "                                                                                                                              cost_v, 100*accr_v))"
   ]
  },
  {
   "cell_type": "code",
   "execution_count": null,
   "metadata": {
    "ExecuteTime": {
     "end_time": "2020-01-11T06:25:21.397524Z",
     "start_time": "2020-01-11T06:24:49.868524Z"
    },
    "scrolled": true
   },
   "outputs": [],
   "source": [
    "%%time\n",
    "\n",
    "BN_sess = tf.Session()\n",
    "BN_sess.run(BN_init)\n",
    "\n",
    "BN_loss_record_train, BN_accr_record_train = [], []\n",
    "BN_loss_record_valid, BN_accr_record_valid = [], []\n",
    "\n",
    "\"\"\"\n",
    "train and valid your BN model with the normalized input\n",
    "\"\"\"\n",
    "\n",
    "for epoch in range(n_iter):\n",
    "    train_x, train_y = minibatch(train_X_n, train_Y_n, n_batch)\n",
    "    \n",
    "    if epoch % n_prt == 0:        \n",
    "        valid_x, valid_y = minibatch(valid_X_n, valid_Y_n, n_batch)\n",
    "        \n",
    "        \n",
    "        \n",
    "        \n",
    "        \n",
    "        \n",
    "        BN_loss_record_train.append(BN_cost), BN_accr_record_train.append(BN_accr)\n",
    "        BN_loss_record_valid.append(BN_cost_v), BN_accr_record_valid.append(BN_accr_v)\n",
    "        \n",
    "        print (\"Iter {:05d} || train_loss: {:.4f} || train_accr: {:.2f}% || valid_loss: {:.4f} || valid_accr: {:.2f}%\".format(epoch, \n",
    "                                                                                                                              BN_cost, 100*BN_accr, \n",
    "                                                                                                                              BN_cost_v, 100*BN_accr_v))"
   ]
  },
  {
   "cell_type": "code",
   "execution_count": null,
   "metadata": {
    "ExecuteTime": {
     "end_time": "2020-01-11T06:25:21.776524Z",
     "start_time": "2020-01-11T06:25:21.398524Z"
    }
   },
   "outputs": [],
   "source": [
    "base_alpha = 0.3\n",
    "bn_alpha = 1\n",
    "\n",
    "plt.figure(figsize=(10,8))\n",
    "plt.plot(np.arange(len(loss_n_record_train))*n_prt, loss_n_record_train, 'b--', alpha = base_alpha, label = 'Base_train')\n",
    "plt.plot(np.arange(len(BN_loss_record_train))*n_prt, BN_loss_record_train, 'r--', alpha = bn_alpha, label = 'BN_train')\n",
    "plt.plot(np.arange(len(loss_n_record_valid))*n_prt, loss_n_record_valid, 'b-', alpha = base_alpha, label = 'Base_valid')\n",
    "plt.plot(np.arange(len(BN_loss_record_valid))*n_prt, BN_loss_record_valid, 'r-', alpha = bn_alpha, label = 'BN_valid')\n",
    "plt.xlabel('Iteration', fontsize = 15)\n",
    "plt.ylabel('Loss', fontsize = 15)\n",
    "plt.ylim([0, 5])\n",
    "plt.legend(fontsize = 12)\n",
    "plt.grid(alpha = 0.3)\n",
    "plt.show()\n",
    "plt.figure(figsize=(10,8))\n",
    "plt.plot(np.arange(len(accr_n_record_train))*n_prt, accr_n_record_train, 'b--', alpha = base_alpha, label = 'Base_train')\n",
    "plt.plot(np.arange(len(BN_accr_record_train))*n_prt, BN_accr_record_train, 'r--', alpha = bn_alpha, label = 'BN_train')\n",
    "plt.plot(np.arange(len(accr_n_record_valid))*n_prt, accr_n_record_valid, 'b-', alpha = base_alpha, label = 'Base_valid')\n",
    "plt.plot(np.arange(len(BN_accr_record_valid))*n_prt, BN_accr_record_valid, 'r-', alpha = bn_alpha, label = 'BN_valid')\n",
    "plt.xlabel('Iteration', fontsize = 15)\n",
    "plt.ylabel('Accuracy', fontsize = 15)\n",
    "plt.legend(fontsize = 12)\n",
    "plt.grid(alpha = 0.3)\n",
    "plt.show()"
   ]
  },
  {
   "cell_type": "markdown",
   "metadata": {},
   "source": [
    "<font size = 4>ML Tutorial: <a href=\"https://www.kaggle.com/tahazafar/steel-plate-faults-data-analysis\" target=\"_blank\">https://www.kaggle.com/tahazafar/steel-plate-faults-data-analysis</a></font>"
   ]
  },
  {
   "cell_type": "code",
   "execution_count": 1,
   "metadata": {
    "ExecuteTime": {
     "end_time": "2020-01-11T07:16:51.068524Z",
     "start_time": "2020-01-11T07:16:51.059524Z"
    }
   },
   "outputs": [
    {
     "data": {
      "application/javascript": [
       "$.getScript('https://kmahelona.github.io/ipython_notebook_goodies/ipython_notebook_toc.js')\n"
      ],
      "text/plain": [
       "<IPython.core.display.Javascript object>"
      ]
     },
     "metadata": {},
     "output_type": "display_data"
    }
   ],
   "source": [
    "%%javascript\n",
    "$.getScript('https://kmahelona.github.io/ipython_notebook_goodies/ipython_notebook_toc.js')"
   ]
  }
 ],
 "metadata": {
  "kernelspec": {
   "display_name": "Python 3",
   "language": "python",
   "name": "python3"
  },
  "language_info": {
   "codemirror_mode": {
    "name": "ipython",
    "version": 3
   },
   "file_extension": ".py",
   "mimetype": "text/x-python",
   "name": "python",
   "nbconvert_exporter": "python",
   "pygments_lexer": "ipython3",
   "version": "3.6.8"
  },
  "varInspector": {
   "cols": {
    "lenName": 16,
    "lenType": 16,
    "lenVar": 40
   },
   "kernels_config": {
    "python": {
     "delete_cmd_postfix": "",
     "delete_cmd_prefix": "del ",
     "library": "var_list.py",
     "varRefreshCmd": "print(var_dic_list())"
    },
    "r": {
     "delete_cmd_postfix": ") ",
     "delete_cmd_prefix": "rm(",
     "library": "var_list.r",
     "varRefreshCmd": "cat(var_dic_list()) "
    }
   },
   "types_to_exclude": [
    "module",
    "function",
    "builtin_function_or_method",
    "instance",
    "_Feature"
   ],
   "window_display": false
  }
 },
 "nbformat": 4,
 "nbformat_minor": 2
}
